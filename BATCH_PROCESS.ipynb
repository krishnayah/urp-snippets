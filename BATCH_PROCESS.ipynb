{
  "nbformat": 4,
  "nbformat_minor": 0,
  "metadata": {
    "colab": {
      "provenance": [],
      "gpuType": "A100",
      "authorship_tag": "ABX9TyNqo5sgWMvbrJgic5YGSnR3",
      "include_colab_link": true
    },
    "kernelspec": {
      "name": "python3",
      "display_name": "Python 3"
    },
    "language_info": {
      "name": "python"
    },
    "accelerator": "GPU"
  },
  "cells": [
    {
      "cell_type": "markdown",
      "metadata": {
        "id": "view-in-github",
        "colab_type": "text"
      },
      "source": [
        "<a href=\"https://colab.research.google.com/github/krishnayah/urp-snippets/blob/main/BATCH_PROCESS.ipynb\" target=\"_parent\"><img src=\"https://colab.research.google.com/assets/colab-badge.svg\" alt=\"Open In Colab\"/></a>"
      ]
    },
    {
      "cell_type": "code",
      "execution_count": null,
      "metadata": {
        "id": "GokWtewb62DX",
        "collapsed": true
      },
      "outputs": [],
      "source": [
        "import time\n",
        "from transformers import AutoTokenizer, AutoModelForCausalLM\n",
        "import torch\n",
        "\n",
        "model_id = \"HuggingFaceTB/SmolLM-1.7B\"\n",
        "tokenizer = AutoTokenizer.from_pretrained(model_id)\n",
        "model = AutoModelForCausalLM.from_pretrained(\n",
        "    model_id, torch_dtype=torch.bfloat16, device_map=\"auto\"\n",
        ")\n",
        "\n"
      ]
    },
    {
      "cell_type": "code",
      "source": [
        "import random\n",
        "\n",
        "# Word pools\n",
        "adjectives = [\n",
        "    \"ancient\", \"futuristic\", \"mysterious\", \"brilliant\", \"dark\", \"colorful\",\n",
        "    \"peaceful\", \"chaotic\", \"lonely\", \"vibrant\", \"silent\", \"melancholic\",\n",
        "    \"red\", \"blue\", \"golden\", \"silver\", \"emerald\", \"gentle\", \"stormy\", \"radiant\"\n",
        "]\n",
        "\n",
        "nouns = [\n",
        "    \"city\", \"forest\", \"ocean\", \"planet\", \"dream\", \"creature\", \"robot\",\n",
        "    \"painting\", \"poem\", \"machine\", \"castle\", \"storm\", \"garden\", \"ship\",\n",
        "    \"dimension\", \"universe\", \"song\", \"memory\", \"light\", \"shadow\"\n",
        "]\n",
        "\n",
        "actions = [\n",
        "    \"describe\", \"explain\", \"analyze\", \"summarize\", \"imagine\", \"narrate\",\n",
        "    \"predict\", \"compare\", \"design\", \"debate\", \"reimagine\", \"illustrate\",\n",
        "    \"explore\", \"evaluate\", \"invent\", \"critique\", \"compose\", \"argue\", \"translate\", \"simulate\"\n",
        "]\n",
        "\n",
        "\n",
        "prompts = []\n",
        "for _ in range(500):\n",
        "    adj = random.choice(adjectives)\n",
        "    noun = random.choice(nouns)\n",
        "    action = random.choice(actions)\n",
        "\n",
        "    prompt_type = random.choice([\n",
        "        f\"{action.capitalize()} a {adj} {noun}.\",\n",
        "        f\"Write a story about a {adj} {noun}.\",\n",
        "        f\"What would happen if a {adj} {noun} could think?\",\n",
        "        f\"Give three facts about a {adj} {noun}.\",\n",
        "        f\"Explain the significance of a {adj} {noun} in society.\",\n",
        "        f\"Imagine discovering a {adj} {noun} — describe it in detail.\"\n",
        "    ])\n",
        "\n",
        "    prompts.append(prompt_type)\n",
        "\n",
        "\n",
        "\n",
        "if tokenizer.pad_token is None:\n",
        "    tokenizer.pad_token = tokenizer.eos_token\n",
        "inputs = tokenizer(prompts, return_tensors=\"pt\", padding=True).to(\"cuda\")\n",
        "\n",
        "\n",
        "start = time.time()\n",
        "with torch.no_grad():\n",
        "    outputs = model.generate(**inputs, max_new_tokens=100)\n",
        "elapsed = time.time() - start\n",
        "\n",
        "print(f\"Batch size: {len(prompts)} | Time: {elapsed:.2f}s\")\n"
      ],
      "metadata": {
        "id": "J7ELRS4t7oGC"
      },
      "execution_count": null,
      "outputs": []
    },
    {
      "cell_type": "markdown",
      "source": [
        "# Info\n",
        "From testing, I believe the batch inference works. It appears to run *incredibly* fast on a large set of prompts, compared to when I was originally getting 3-4s per inference before."
      ],
      "metadata": {
        "id": "qCbZhGN3THBJ"
      }
    },
    {
      "cell_type": "code",
      "source": [
        "import gc\n",
        "gc.collect()"
      ],
      "metadata": {
        "id": "bNF__eHO-9JO"
      },
      "execution_count": null,
      "outputs": []
    },
    {
      "cell_type": "code",
      "source": [
        "torch.cuda.empty_cache()"
      ],
      "metadata": {
        "id": "icOlZMXd_Ar0"
      },
      "execution_count": null,
      "outputs": []
    },
    {
      "cell_type": "code",
      "source": [
        "del model\n",
        "del inputs\n",
        "del outputs"
      ],
      "metadata": {
        "id": "UgaGLhyX_Fqy"
      },
      "execution_count": null,
      "outputs": []
    }
  ]
}